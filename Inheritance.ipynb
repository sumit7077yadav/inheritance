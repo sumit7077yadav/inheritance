{
 "cells": [
  {
   "cell_type": "code",
   "execution_count": 1,
   "id": "be3e6945-a6df-49c0-b347-00351e84b43e",
   "metadata": {},
   "outputs": [],
   "source": [
    "class Person:\n",
    "  def __init__(self, fname, lname):\n",
    "    self.firstname = fname\n",
    "    self.lastname = lname\n",
    "\n",
    "  def printname(self):\n",
    "    print(self.firstname, self.lastname)"
   ]
  },
  {
   "cell_type": "code",
   "execution_count": 4,
   "id": "dfd90e48-07aa-4d70-aaa7-76a15a1ddc05",
   "metadata": {},
   "outputs": [
    {
     "name": "stdout",
     "output_type": "stream",
     "text": [
      "2019\n"
     ]
    }
   ],
   "source": [
    "class Student(Person):\n",
    "  def __init__(self, fname, lname):\n",
    "    super().__init__(fname, lname)\n",
    " # Person.__init__(fname, lname)\n",
    "    self.graduationyear = 2019\n",
    "\n",
    "x = Student(\"Mike\", \"Olsen\")\n",
    "print(x.graduationyear)"
   ]
  },
  {
   "cell_type": "code",
   "execution_count": 10,
   "id": "b20f32c2-d290-4e75-a75c-5a145f3695ac",
   "metadata": {},
   "outputs": [
    {
     "name": "stdout",
     "output_type": "stream",
     "text": [
      "Mike Olsen\n"
     ]
    }
   ],
   "source": [
    "x.printname()"
   ]
  },
  {
   "cell_type": "code",
   "execution_count": 13,
   "id": "b8eca830-6c3d-4be0-8b74-0e8fd35a395e",
   "metadata": {},
   "outputs": [
    {
     "name": "stdout",
     "output_type": "stream",
     "text": [
      "apple\n",
      "banana\n",
      "cherry\n"
     ]
    },
    {
     "ename": "StopIteration",
     "evalue": "",
     "output_type": "error",
     "traceback": [
      "\u001b[1;31m---------------------------------------------------------------------------\u001b[0m",
      "\u001b[1;31mStopIteration\u001b[0m                             Traceback (most recent call last)",
      "Cell \u001b[1;32mIn[13], line 7\u001b[0m\n\u001b[0;32m      5\u001b[0m \u001b[38;5;28mprint\u001b[39m(\u001b[38;5;28mnext\u001b[39m(myit))\n\u001b[0;32m      6\u001b[0m \u001b[38;5;28mprint\u001b[39m(\u001b[38;5;28mnext\u001b[39m(myit))\n\u001b[1;32m----> 7\u001b[0m \u001b[38;5;28mprint\u001b[39m(\u001b[38;5;28mnext\u001b[39m(myit))\n",
      "\u001b[1;31mStopIteration\u001b[0m: "
     ]
    }
   ],
   "source": [
    "mytuple = (\"apple\", \"banana\", \"cherry\")\n",
    "myit = iter(mytuple)\n",
    "\n",
    "print(next(myit))\n",
    "print(next(myit))\n",
    "print(next(myit))\n",
    "# print(next(myit))\n",
    "\n",
    "# for j in mytuple:\n",
    "#     print(j)"
   ]
  },
  {
   "cell_type": "code",
   "execution_count": 10,
   "id": "146b7ecf-09d8-4af4-8413-a51e34fadfa9",
   "metadata": {},
   "outputs": [
    {
     "name": "stdout",
     "output_type": "stream",
     "text": [
      "sumit 43\n"
     ]
    }
   ],
   "source": [
    "class person:\n",
    "    def __init__(rao, name,age):\n",
    "         rao.name = name\n",
    "         rao.age = age\n",
    "    def printname(rao):\n",
    "       print(rao.name, rao.age) \n",
    "x = person(\"sumit\" , 43)\n",
    "x.printname()\n",
    "# x.printname(\"age\")"
   ]
  },
  {
   "cell_type": "code",
   "execution_count": 17,
   "id": "cade0617-8af9-4b26-80a2-dc9647874355",
   "metadata": {},
   "outputs": [
    {
     "name": "stdout",
     "output_type": "stream",
     "text": [
      "sumit 43\n"
     ]
    }
   ],
   "source": [
    "class person:\n",
    "    def __init__(rao,name,over):\n",
    "        rao.name = name\n",
    "        rao.over = over\n",
    "    def printname(rao):\n",
    "        print(rao.name,rao.over)\n",
    "class student(person):\n",
    "    pass\n",
    "x = person(\"sumit\" , 43)\n",
    "x.printname()       \n",
    "        \n",
    "    "
   ]
  },
  {
   "cell_type": "code",
   "execution_count": 85,
   "id": "521d9e55-06db-4763-8e77-773d2414595d",
   "metadata": {},
   "outputs": [
    {
     "name": "stdout",
     "output_type": "stream",
     "text": [
      "amit 43\n"
     ]
    }
   ],
   "source": [
    "class person:\n",
    "    def __init__(raa,name,over):\n",
    "        raa.name = name\n",
    "        raa.over = over\n",
    "    def printname(raa):\n",
    "        print(raa.name,raa.over)\n",
    "class student(person):\n",
    "     def __init__(raa,name,over):\n",
    "         person.__init__(raa,name,over)\n",
    "x = person(\"amit\" , 43)\n",
    "x.printname()               "
   ]
  },
  {
   "cell_type": "code",
   "execution_count": 88,
   "id": "5febf566-d2e0-47d7-8df5-512bc8015fcf",
   "metadata": {},
   "outputs": [
    {
     "name": "stdout",
     "output_type": "stream",
     "text": [
      "amit 43\n"
     ]
    }
   ],
   "source": [
    "class person:\n",
    "    def __init__(rao,name,over):\n",
    "        rao.name = name\n",
    "        rao.over = over\n",
    "    def printname(rao):\n",
    "        print(rao.name,rao.over)\n",
    "class student(person):\n",
    "     def __init__(rao,name,over):\n",
    "         super().__init__(name,over)\n",
    "x = person(\"amit\" , 43)\n",
    "x.printname()               "
   ]
  },
  {
   "cell_type": "code",
   "execution_count": 2,
   "id": "90b929c5-c0d3-440a-a376-cea15158ff9e",
   "metadata": {},
   "outputs": [
    {
     "name": "stdout",
     "output_type": "stream",
     "text": [
      "2026\n",
      "amit 43\n"
     ]
    }
   ],
   "source": [
    "class person:\n",
    "    def __init__(rao,name,over):\n",
    "        rao.name = name\n",
    "        rao.over = over\n",
    "    def printname(rao):\n",
    "        print(rao.name,rao.over)\n",
    "class student(person):\n",
    "     def __init__(rao,name,over):\n",
    "        super().__init__(name,over)\n",
    "        rao.pass_1 = 2026\n",
    "x = student(\"amit\" , 43)\n",
    "print(x.pass_1)  \n",
    "x.printname()"
   ]
  },
  {
   "cell_type": "code",
   "execution_count": 2,
   "id": "cc210a1e-51d5-4ee2-9fa4-a4a05644f737",
   "metadata": {},
   "outputs": [
    {
     "name": "stdout",
     "output_type": "stream",
     "text": [
      "2019\n"
     ]
    }
   ],
   "source": [
    "class Person:\n",
    "  def __init__(self, fname, lname):\n",
    "    self.firstname = fname\n",
    "    self.lastname = lname\n",
    "\n",
    "  def printname(self):\n",
    "    print(self.firstname, self.lastname)\n",
    "\n",
    "class Student(Person):\n",
    "  def __init__(self, fname, lname):\n",
    "    super().__init__(fname, lname)\n",
    "    self.graduationyear = 2019\n",
    "\n",
    "x = Student(\"Mike\", \"Olsen\")\n",
    "print(x.graduationyear)\n"
   ]
  },
  {
   "cell_type": "code",
   "execution_count": 65,
   "id": "44c98a6a-c4c9-4450-820e-098d7e0ae15f",
   "metadata": {},
   "outputs": [
    {
     "name": "stdout",
     "output_type": "stream",
     "text": [
      "Welcome sumit gty to the class of 2026\n"
     ]
    }
   ],
   "source": [
    "class person:\n",
    "    def __init__(rao,name,over):\n",
    "        rao.name = name\n",
    "        rao.over = over\n",
    "    def printname(rao):\n",
    "        print(rao.name,rao.over)\n",
    "class student(person):\n",
    "     def __init__(rao,name,over):\n",
    "         super().__init__(name,over,year)\n",
    "         rao.graduate == year\n",
    "  \n",
    "     def welcome(rao):\n",
    "         print(\"welcome\", rao.name, rao.over,\"to the class of\",rao.graduat )    \n",
    "      \n",
    "# x = student(\"sumit\", \"gty\",  2026)\n",
    "x = Student(\"sumit\", \"gty\",  2026)\n",
    "# x.welcome()\n",
    "x.welcome()"
   ]
  },
  {
   "cell_type": "code",
   "execution_count": 3,
   "id": "8f9ce0a8-c05c-4aa0-b20b-f8ac2b6365e2",
   "metadata": {},
   "outputs": [
    {
     "ename": "NameError",
     "evalue": "name 'Student' is not defined",
     "output_type": "error",
     "traceback": [
      "\u001b[1;31m---------------------------------------------------------------------------\u001b[0m",
      "\u001b[1;31mNameError\u001b[0m                                 Traceback (most recent call last)",
      "Cell \u001b[1;32mIn[3], line 13\u001b[0m\n\u001b[0;32m     11\u001b[0m     \u001b[38;5;28;01mdef\u001b[39;00m \u001b[38;5;21mwelcome\u001b[39m(rao):\n\u001b[0;32m     12\u001b[0m           \u001b[38;5;28mprint\u001b[39m(\u001b[38;5;124m\"\u001b[39m\u001b[38;5;124mwelcom\u001b[39m\u001b[38;5;124m\"\u001b[39m, rao\u001b[38;5;241m.\u001b[39mname, rao\u001b[38;5;241m.\u001b[39mage, rao\u001b[38;5;241m.\u001b[39mproperty,\u001b[38;5;124m\"\u001b[39m\u001b[38;5;124mto the class\u001b[39m\u001b[38;5;124m\"\u001b[39m)\n\u001b[1;32m---> 13\u001b[0m x \u001b[38;5;241m=\u001b[39m Student(\u001b[38;5;124m\"\u001b[39m\u001b[38;5;124msumit\u001b[39m\u001b[38;5;124m\"\u001b[39m, \u001b[38;5;124m\"\u001b[39m\u001b[38;5;124mgty\u001b[39m\u001b[38;5;124m\"\u001b[39m,  \u001b[38;5;241m2026\u001b[39m)      \n\u001b[0;32m     14\u001b[0m x\u001b[38;5;241m.\u001b[39mwelcome()       \n\u001b[0;32m     15\u001b[0m x\u001b[38;5;241m.\u001b[39mprintname()\n",
      "\u001b[1;31mNameError\u001b[0m: name 'Student' is not defined"
     ]
    }
   ],
   "source": [
    "class person:\n",
    "    def __init__(rao, name, age):\n",
    "         rao.name = name\n",
    "         rao.age = age\n",
    "    def printname(rao):\n",
    "        print(rao.name,rao.age)\n",
    "class student(person):\n",
    "    def __init__(rao,name,age):\n",
    "        super().__init__(name,over,age ,)\n",
    "        rao.property == year\n",
    "    def welcome(rao):\n",
    "          print(\"welcom\", rao.name, rao.age, rao.property,\"to the class\")\n",
    "x = Student(\"sumit\", \"gty\",  2026)      \n",
    "x.welcome()       \n",
    "x.printname()    "
   ]
  },
  {
   "cell_type": "code",
   "execution_count": 23,
   "id": "67bae959-3f61-43a1-ba6d-b820793c65c9",
   "metadata": {},
   "outputs": [
    {
     "ename": "TypeError",
     "evalue": "Student.__init__() takes 3 positional arguments but 4 were given",
     "output_type": "error",
     "traceback": [
      "\u001b[1;31m---------------------------------------------------------------------------\u001b[0m",
      "\u001b[1;31mTypeError\u001b[0m                                 Traceback (most recent call last)",
      "Cell \u001b[1;32mIn[23], line 21\u001b[0m\n\u001b[0;32m     17\u001b[0m         \u001b[38;5;28mprint\u001b[39m(\u001b[38;5;124m\"\u001b[39m\u001b[38;5;124mwelcom\u001b[39m\u001b[38;5;124m\"\u001b[39m, rao\u001b[38;5;241m.\u001b[39mname, rao\u001b[38;5;241m.\u001b[39mage, rao\u001b[38;5;241m.\u001b[39mproperty,\u001b[38;5;124m\"\u001b[39m\u001b[38;5;124mto the class\u001b[39m\u001b[38;5;124m\"\u001b[39m)\n\u001b[0;32m     18\u001b[0m \u001b[38;5;66;03m# x = student(\"sumit\",22,2025)   \u001b[39;00m\n\u001b[0;32m     19\u001b[0m \u001b[38;5;66;03m# x.welcome()\u001b[39;00m\n\u001b[0;32m     20\u001b[0m \u001b[38;5;66;03m# x.printname()\u001b[39;00m\n\u001b[1;32m---> 21\u001b[0m x \u001b[38;5;241m=\u001b[39m Student(\u001b[38;5;124m\"\u001b[39m\u001b[38;5;124msumit\u001b[39m\u001b[38;5;124m\"\u001b[39m, \u001b[38;5;124m\"\u001b[39m\u001b[38;5;124mgty\u001b[39m\u001b[38;5;124m\"\u001b[39m,  \u001b[38;5;241m2026\u001b[39m)      \n\u001b[0;32m     22\u001b[0m x\u001b[38;5;241m.\u001b[39mwelcome()       \n\u001b[0;32m     23\u001b[0m x\u001b[38;5;241m.\u001b[39mprintname()\n",
      "\u001b[1;31mTypeError\u001b[0m: Student.__init__() takes 3 positional arguments but 4 were given"
     ]
    }
   ],
   "source": [
    "class person:\n",
    "    def __init__(rao,name,age):\n",
    "        rao.name = name\n",
    "        rao.age = age\n",
    "    def printname(rao):\n",
    "        print(rao.name,rao.age)\n",
    "class student(person):\n",
    "    def __init__(rao,name,age):\n",
    "        super().__init__(name,over,age ,)\n",
    "        rao.property == year\n",
    "    # def __init__(rao, name, age, year):\n",
    "    #     super().__init__(name,age)\n",
    "    #     rao.graduate = year\n",
    "    # def welcome(rao):\n",
    "    #     print(\"welcome\", rao.name,rao.age,\"to pass the class\",rao.graduate)\n",
    "    def welcome(rao):\n",
    "        print(\"welcom\", rao.name, rao.age, rao.property,\"to the class\")\n",
    "# x = student(\"sumit\",22,2025)   \n",
    "# x.welcome()\n",
    "# x.printname()\n",
    "x = Student(\"sumit\", \"gty\",  2026)      \n",
    "x.welcome()       \n",
    "x.printname()     "
   ]
  },
  {
   "cell_type": "code",
   "execution_count": 3,
   "id": "4ad324b9-04e3-41cc-93f1-e0110e9347f8",
   "metadata": {},
   "outputs": [
    {
     "ename": "NameError",
     "evalue": "name 'Student' is not defined",
     "output_type": "error",
     "traceback": [
      "\u001b[1;31m---------------------------------------------------------------------------\u001b[0m",
      "\u001b[1;31mNameError\u001b[0m                                 Traceback (most recent call last)",
      "Cell \u001b[1;32mIn[3], line 13\u001b[0m\n\u001b[0;32m     11\u001b[0m     \u001b[38;5;28;01mdef\u001b[39;00m \u001b[38;5;21mwelcome\u001b[39m(rao):\n\u001b[0;32m     12\u001b[0m           \u001b[38;5;28mprint\u001b[39m(\u001b[38;5;124m\"\u001b[39m\u001b[38;5;124mwelcom\u001b[39m\u001b[38;5;124m\"\u001b[39m, rao\u001b[38;5;241m.\u001b[39mname, rao\u001b[38;5;241m.\u001b[39mage, rao\u001b[38;5;241m.\u001b[39mproperty,\u001b[38;5;124m\"\u001b[39m\u001b[38;5;124mto the class\u001b[39m\u001b[38;5;124m\"\u001b[39m)\n\u001b[1;32m---> 13\u001b[0m x \u001b[38;5;241m=\u001b[39m Student(\u001b[38;5;124m\"\u001b[39m\u001b[38;5;124msumit\u001b[39m\u001b[38;5;124m\"\u001b[39m, \u001b[38;5;124m\"\u001b[39m\u001b[38;5;124mgty\u001b[39m\u001b[38;5;124m\"\u001b[39m,  \u001b[38;5;241m2026\u001b[39m)      \n\u001b[0;32m     14\u001b[0m \u001b[38;5;66;03m# x.welcome()       \u001b[39;00m\n\u001b[0;32m     15\u001b[0m x\u001b[38;5;241m.\u001b[39mprintname()\n",
      "\u001b[1;31mNameError\u001b[0m: name 'Student' is not defined"
     ]
    }
   ],
   "source": [
    "class person:\n",
    "    def __init__(rao, name, age):\n",
    "         rao.name = name\n",
    "         rao.age = age\n",
    "    def printname(rao):\n",
    "        print(rao.name,rao.age)\n",
    "class student(person):\n",
    "    def __init__(rao,name,age):\n",
    "        super().__init__(name,over,age ,)\n",
    "        rao.property == year\n",
    "    def welcome(rao):\n",
    "          print(\"welcom\", rao.name, rao.age, rao.property,\"to the class\")\n",
    "x = Student(\"sumit\", \"gty\",  2026)      \n",
    "# x.welcome()       \n",
    "x.printname()   "
   ]
  },
  {
   "cell_type": "code",
   "execution_count": 8,
   "id": "63f2f5f8-0482-4e93-9877-800a5db551bd",
   "metadata": {},
   "outputs": [
    {
     "ename": "TypeError",
     "evalue": "Student.__init__() takes 3 positional arguments but 4 were given",
     "output_type": "error",
     "traceback": [
      "\u001b[1;31m---------------------------------------------------------------------------\u001b[0m",
      "\u001b[1;31mTypeError\u001b[0m                                 Traceback (most recent call last)",
      "Cell \u001b[1;32mIn[8], line 13\u001b[0m\n\u001b[0;32m     11\u001b[0m     \u001b[38;5;28;01mdef\u001b[39;00m \u001b[38;5;21mwelcome\u001b[39m(rao):\n\u001b[0;32m     12\u001b[0m         \u001b[38;5;28mprint\u001b[39m(\u001b[38;5;124m\"\u001b[39m\u001b[38;5;124m|welcome\u001b[39m\u001b[38;5;124m\"\u001b[39m,ask\u001b[38;5;241m.\u001b[39mname,ask\u001b[38;5;241m.\u001b[39mage,\u001b[38;5;124m\"\u001b[39m\u001b[38;5;124mto pass in the class\u001b[39m\u001b[38;5;124m\"\u001b[39m,ask\u001b[38;5;241m.\u001b[39mgraduate)\n\u001b[1;32m---> 13\u001b[0m x \u001b[38;5;241m=\u001b[39m Student(\u001b[38;5;124m\"\u001b[39m\u001b[38;5;124mMike\u001b[39m\u001b[38;5;124m\"\u001b[39m, \u001b[38;5;241m22\u001b[39m , \u001b[38;5;241m2024\u001b[39m)\n\u001b[0;32m     14\u001b[0m x\u001b[38;5;241m.\u001b[39mwelcome()\n",
      "\u001b[1;31mTypeError\u001b[0m: Student.__init__() takes 3 positional arguments but 4 were given"
     ]
    }
   ],
   "source": [
    "class Person:\n",
    "    def __init__(ask,name,age):\n",
    "        ask.name = name\n",
    "        ask.age = age\n",
    "    def printname(ask):\n",
    "        print(ask.name,ask.age)\n",
    "class Student(Person):\n",
    "    def __init__(ask,name,age):\n",
    "        super().__init__( name,age)\n",
    "        ask.graduat = year\n",
    "    def welcome(rao):\n",
    "        print(\"|welcome\",ask.name,ask.age,\"to pass in the class\",ask.graduate)\n",
    "x = Student(\"Mike\", 22 , 2024)\n",
    "x.welcome()"
   ]
  },
  {
   "cell_type": "code",
   "execution_count": null,
   "id": "d2d31697-efab-4c1c-acba-85377f0e40d7",
   "metadata": {},
   "outputs": [],
   "source": []
  }
 ],
 "metadata": {
  "kernelspec": {
   "display_name": "Python 3 (ipykernel)",
   "language": "python",
   "name": "python3"
  },
  "language_info": {
   "codemirror_mode": {
    "name": "ipython",
    "version": 3
   },
   "file_extension": ".py",
   "mimetype": "text/x-python",
   "name": "python",
   "nbconvert_exporter": "python",
   "pygments_lexer": "ipython3",
   "version": "3.11.7"
  }
 },
 "nbformat": 4,
 "nbformat_minor": 5
}
